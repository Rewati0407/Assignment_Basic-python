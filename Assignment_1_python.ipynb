{
 "cells": [
  {
   "cell_type": "code",
   "execution_count": null,
   "id": "51256224-193f-4f69-a05d-424149720ca2",
   "metadata": {},
   "outputs": [],
   "source": [
    "Q1.  Explain with an example each when to use a for loop and a while loop. "
   ]
  },
  {
   "cell_type": "code",
   "execution_count": 1,
   "id": "785b4a87-9a09-432a-b140-14ffabed8aef",
   "metadata": {},
   "outputs": [
    {
     "name": "stdout",
     "output_type": "stream",
     "text": [
      "1\n",
      "2\n",
      "3\n",
      "4\n",
      "5\n"
     ]
    }
   ],
   "source": [
    "for i in range(1,6):\n",
    "    print(i)"
   ]
  },
  {
   "cell_type": "code",
   "execution_count": 2,
   "id": "2f124f4b-89e0-4c29-b57c-ca80d98ffe90",
   "metadata": {},
   "outputs": [
    {
     "name": "stdout",
     "output_type": "stream",
     "text": [
      "1\n",
      "2\n",
      "3\n",
      "4\n",
      "5\n"
     ]
    }
   ],
   "source": [
    "i = 1\n",
    "n = 5\n",
    "while i <= n:\n",
    "    print(i)\n",
    "    i = i + 1"
   ]
  },
  {
   "cell_type": "code",
   "execution_count": null,
   "id": "204d3fa4-cfa4-468c-b06f-d09afbad9c38",
   "metadata": {},
   "outputs": [],
   "source": [
    "Q2.  Write a python program to print the sum and product of the first 10 natural numbers using for and while loop. \n"
   ]
  },
  {
   "cell_type": "code",
   "execution_count": 3,
   "id": "3835dc98-d5db-4832-873f-b0ec225bc374",
   "metadata": {},
   "outputs": [],
   "source": [
    "## using for loop"
   ]
  },
  {
   "cell_type": "code",
   "execution_count": 4,
   "id": "75bb2c1f-ff00-4f3b-bcea-26701f127999",
   "metadata": {},
   "outputs": [
    {
     "name": "stdout",
     "output_type": "stream",
     "text": [
      "55\n",
      "3628800\n"
     ]
    }
   ],
   "source": [
    "sum=0\n",
    "product=1\n",
    "for i in range(1,11):\n",
    "    sum = sum +i\n",
    "    product=product*i\n",
    "print(sum)\n",
    "print(product)"
   ]
  },
  {
   "cell_type": "code",
   "execution_count": 5,
   "id": "235075dd-5170-48d1-b208-888929d3fdeb",
   "metadata": {},
   "outputs": [],
   "source": [
    "## using while lo"
   ]
  },
  {
   "cell_type": "code",
   "execution_count": 8,
   "id": "e97e2fb1-8d92-4bb8-b287-cfc20ad571d7",
   "metadata": {},
   "outputs": [
    {
     "name": "stdout",
     "output_type": "stream",
     "text": [
      "The sum is 55\n",
      "The product is 3628800\n"
     ]
    }
   ],
   "source": [
    "\n",
    "num = 10\n",
    "sum = 0\n",
    "pro=1\n",
    "   # use while loop to iterate until zero\n",
    "while(num > 0):\n",
    "        sum =sum + num\n",
    "        pro=pro * num \n",
    "        num -= 1\n",
    "print(\"The sum is\", sum)\n",
    "print(\"The product is\", pro)"
   ]
  },
  {
   "cell_type": "code",
   "execution_count": null,
   "id": "3c108cd3-5704-4e63-baf7-157da52ffb14",
   "metadata": {},
   "outputs": [],
   "source": [
    "Q3. Create a python program to compute the electricity bill for a household. \n",
    "The per-unit charges in rupees are as follows: For the first 100 units, the user will be charged Rs. 4.5 per  unit,\n",
    "for the next 100 units, the user will be charged Rs. 6 per unit, and for the next 100 units, the user will  be charged Rs. 10 \n",
    "per unit, After 300 units and above the user will be charged Rs. 20 per unit. \n"
   ]
  },
  {
   "cell_type": "code",
   "execution_count": 33,
   "id": "eb882102-bbfe-4f93-8b09-7f1c1fd6b719",
   "metadata": {},
   "outputs": [
    {
     "name": "stdin",
     "output_type": "stream",
     "text": [
      "enter units 310\n"
     ]
    },
    {
     "name": "stdout",
     "output_type": "stream",
     "text": [
      "the user will be charged Rs.20 per unit 2250.0\n"
     ]
    }
   ],
   "source": [
    "units=int(input('enter units'))\n",
    "if units <=100 :\n",
    "    a= (units * 4.5)\n",
    "    print('the user will be charged Rs.4.5 per unit',a) \n",
    "elif units <=200:\n",
    "    b= ((100 * 4.5) + (units - 100) * 6)\n",
    "    print('the user will be charged Rs.6 per unit',b)\n",
    "elif units <=300:\n",
    "    c= ((100 * 4.5) +(100 * 6) + (units - 200) * 10)\n",
    "    print('the user will be charged Rs.10 per unit',c)\n",
    "elif units >300:\n",
    "    e= ((100 * 4.5) +(100 * 6) + (100 * 10) + (units - 300) * 20)\n",
    "    print('the user will be charged Rs.20 per unit',e)\n"
   ]
  },
  {
   "cell_type": "code",
   "execution_count": null,
   "id": "43b83567-3d8d-405f-bd34-dd06efdc7547",
   "metadata": {},
   "outputs": [],
   "source": [
    "Q4. Create a list of numbers from 1 to 100. Use for loop and while loop to calculate the cube of each  number and if\n",
    "the cube of that number is divisible by 4 or 5 then append that number in a list and print  that list. \n"
   ]
  },
  {
   "cell_type": "code",
   "execution_count": 1,
   "id": "d69b54b4-52f6-4653-95c2-48bb479a82f5",
   "metadata": {},
   "outputs": [
    {
     "name": "stdout",
     "output_type": "stream",
     "text": [
      "[4, 5, 8, 10, 12, 15, 16, 20, 24, 25, 28, 30, 32, 35, 36, 40, 44, 45, 48, 50, 52, 55, 56, 60, 64, 65, 68, 70, 72, 75, 76, 80, 84, 85, 88, 90, 92, 95, 96, 100]\n"
     ]
    }
   ],
   "source": [
    "r = []\n",
    "for num in range(1, 101):\n",
    "    if num % 4 == 0 or num % 5 == 0:\n",
    "         r.append(num)\n",
    "\n",
    "print(r)"
   ]
  },
  {
   "cell_type": "code",
   "execution_count": null,
   "id": "807ff9ed-73c3-467e-89b7-e30393fb0af9",
   "metadata": {},
   "outputs": [],
   "source": [
    "\n",
    "Q5.  Write a program to filter count vowels in the below-given string. \n",
    "string = \"I want to become a data scientist\" \n"
   ]
  },
  {
   "cell_type": "code",
   "execution_count": 36,
   "id": "56168423-4645-4bac-84da-38eaa0ca1c69",
   "metadata": {},
   "outputs": [
    {
     "name": "stdout",
     "output_type": "stream",
     "text": [
      "total vowels are : 12\n"
     ]
    }
   ],
   "source": [
    "string='I want to become a data scientist'\n",
    "count=0\n",
    "string=string.lower()\n",
    "for i in string :\n",
    "      if i=='a' or i=='e' or i=='i' or i=='o' or i=='u' :\n",
    "        count=count+1\n",
    "        ##print(count)\n",
    "if count==0 :\n",
    "        print('No Vowels Found')\n",
    "else :\n",
    "        print('total vowels are :',str(count))\n",
    "           "
   ]
  },
  {
   "cell_type": "code",
   "execution_count": null,
   "id": "08535fad-d6fd-49df-9006-d8d9a88e7b85",
   "metadata": {},
   "outputs": [],
   "source": []
  }
 ],
 "metadata": {
  "kernelspec": {
   "display_name": "Python 3 (ipykernel)",
   "language": "python",
   "name": "python3"
  },
  "language_info": {
   "codemirror_mode": {
    "name": "ipython",
    "version": 3
   },
   "file_extension": ".py",
   "mimetype": "text/x-python",
   "name": "python",
   "nbconvert_exporter": "python",
   "pygments_lexer": "ipython3",
   "version": "3.10.8"
  }
 },
 "nbformat": 4,
 "nbformat_minor": 5
}
